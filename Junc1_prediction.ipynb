{
 "cells": [
  {
   "cell_type": "code",
   "execution_count": 1,
   "id": "ddb2e85f",
   "metadata": {},
   "outputs": [],
   "source": [
    "import pandas as pd\n",
    "import numpy as np"
   ]
  },
  {
   "cell_type": "code",
   "execution_count": 62,
   "id": "4430b57f",
   "metadata": {},
   "outputs": [],
   "source": [
    "# Load the time series data\n",
    "junc1 = pd.read_csv('Traffic_Junc/Junc1.csv')"
   ]
  },
  {
   "cell_type": "code",
   "execution_count": 64,
   "id": "51f4d39a",
   "metadata": {},
   "outputs": [
    {
     "data": {
      "text/html": [
       "<div>\n",
       "<style scoped>\n",
       "    .dataframe tbody tr th:only-of-type {\n",
       "        vertical-align: middle;\n",
       "    }\n",
       "\n",
       "    .dataframe tbody tr th {\n",
       "        vertical-align: top;\n",
       "    }\n",
       "\n",
       "    .dataframe thead th {\n",
       "        text-align: right;\n",
       "    }\n",
       "</style>\n",
       "<table border=\"1\" class=\"dataframe\">\n",
       "  <thead>\n",
       "    <tr style=\"text-align: right;\">\n",
       "      <th></th>\n",
       "      <th>DateTime</th>\n",
       "      <th>Junction</th>\n",
       "      <th>Vehicles</th>\n",
       "    </tr>\n",
       "    <tr>\n",
       "      <th>DateTime</th>\n",
       "      <th></th>\n",
       "      <th></th>\n",
       "      <th></th>\n",
       "    </tr>\n",
       "  </thead>\n",
       "  <tbody>\n",
       "    <tr>\n",
       "      <th>2015-11-01 00:00:00</th>\n",
       "      <td>2015-11-01 00:00:00</td>\n",
       "      <td>1</td>\n",
       "      <td>15</td>\n",
       "    </tr>\n",
       "    <tr>\n",
       "      <th>2015-11-01 01:00:00</th>\n",
       "      <td>2015-11-01 01:00:00</td>\n",
       "      <td>1</td>\n",
       "      <td>13</td>\n",
       "    </tr>\n",
       "    <tr>\n",
       "      <th>2015-11-01 02:00:00</th>\n",
       "      <td>2015-11-01 02:00:00</td>\n",
       "      <td>1</td>\n",
       "      <td>10</td>\n",
       "    </tr>\n",
       "    <tr>\n",
       "      <th>2015-11-01 03:00:00</th>\n",
       "      <td>2015-11-01 03:00:00</td>\n",
       "      <td>1</td>\n",
       "      <td>7</td>\n",
       "    </tr>\n",
       "    <tr>\n",
       "      <th>2015-11-01 04:00:00</th>\n",
       "      <td>2015-11-01 04:00:00</td>\n",
       "      <td>1</td>\n",
       "      <td>9</td>\n",
       "    </tr>\n",
       "  </tbody>\n",
       "</table>\n",
       "</div>"
      ],
      "text/plain": [
       "                               DateTime  Junction  Vehicles\n",
       "DateTime                                                   \n",
       "2015-11-01 00:00:00 2015-11-01 00:00:00         1        15\n",
       "2015-11-01 01:00:00 2015-11-01 01:00:00         1        13\n",
       "2015-11-01 02:00:00 2015-11-01 02:00:00         1        10\n",
       "2015-11-01 03:00:00 2015-11-01 03:00:00         1         7\n",
       "2015-11-01 04:00:00 2015-11-01 04:00:00         1         9"
      ]
     },
     "execution_count": 64,
     "metadata": {},
     "output_type": "execute_result"
    }
   ],
   "source": [
    "junc1.head()"
   ]
  },
  {
   "cell_type": "markdown",
   "id": "1df8156a",
   "metadata": {},
   "source": [
    "### Predictions"
   ]
  },
  {
   "cell_type": "code",
   "execution_count": 65,
   "id": "4d9e350b",
   "metadata": {},
   "outputs": [],
   "source": [
    "from sklearn.model_selection import train_test_split\n",
    "from sklearn.metrics import mean_squared_error\n",
    "from sklearn.preprocessing import MinMaxScaler\n",
    "from sklearn.linear_model import LinearRegression\n",
    "from datetime import datetime, timedelta"
   ]
  },
  {
   "cell_type": "code",
   "execution_count": 70,
   "id": "fa087801",
   "metadata": {},
   "outputs": [
    {
     "data": {
      "text/html": [
       "<div>\n",
       "<style scoped>\n",
       "    .dataframe tbody tr th:only-of-type {\n",
       "        vertical-align: middle;\n",
       "    }\n",
       "\n",
       "    .dataframe tbody tr th {\n",
       "        vertical-align: top;\n",
       "    }\n",
       "\n",
       "    .dataframe thead th {\n",
       "        text-align: right;\n",
       "    }\n",
       "</style>\n",
       "<table border=\"1\" class=\"dataframe\">\n",
       "  <thead>\n",
       "    <tr style=\"text-align: right;\">\n",
       "      <th></th>\n",
       "      <th>DateTime</th>\n",
       "      <th>Junction</th>\n",
       "      <th>Vehicles</th>\n",
       "      <th>scaled_traffic</th>\n",
       "    </tr>\n",
       "    <tr>\n",
       "      <th>DateTime</th>\n",
       "      <th></th>\n",
       "      <th></th>\n",
       "      <th></th>\n",
       "      <th></th>\n",
       "    </tr>\n",
       "  </thead>\n",
       "  <tbody>\n",
       "    <tr>\n",
       "      <th>2015-11-01 00:00:00</th>\n",
       "      <td>2015-11-01 00:00:00</td>\n",
       "      <td>1</td>\n",
       "      <td>15</td>\n",
       "      <td>0.066225</td>\n",
       "    </tr>\n",
       "    <tr>\n",
       "      <th>2015-11-01 01:00:00</th>\n",
       "      <td>2015-11-01 01:00:00</td>\n",
       "      <td>1</td>\n",
       "      <td>13</td>\n",
       "      <td>0.052980</td>\n",
       "    </tr>\n",
       "    <tr>\n",
       "      <th>2015-11-01 02:00:00</th>\n",
       "      <td>2015-11-01 02:00:00</td>\n",
       "      <td>1</td>\n",
       "      <td>10</td>\n",
       "      <td>0.033113</td>\n",
       "    </tr>\n",
       "    <tr>\n",
       "      <th>2015-11-01 03:00:00</th>\n",
       "      <td>2015-11-01 03:00:00</td>\n",
       "      <td>1</td>\n",
       "      <td>7</td>\n",
       "      <td>0.013245</td>\n",
       "    </tr>\n",
       "    <tr>\n",
       "      <th>2015-11-01 04:00:00</th>\n",
       "      <td>2015-11-01 04:00:00</td>\n",
       "      <td>1</td>\n",
       "      <td>9</td>\n",
       "      <td>0.026490</td>\n",
       "    </tr>\n",
       "  </tbody>\n",
       "</table>\n",
       "</div>"
      ],
      "text/plain": [
       "                               DateTime  Junction  Vehicles  scaled_traffic\n",
       "DateTime                                                                   \n",
       "2015-11-01 00:00:00 2015-11-01 00:00:00         1        15        0.066225\n",
       "2015-11-01 01:00:00 2015-11-01 01:00:00         1        13        0.052980\n",
       "2015-11-01 02:00:00 2015-11-01 02:00:00         1        10        0.033113\n",
       "2015-11-01 03:00:00 2015-11-01 03:00:00         1         7        0.013245\n",
       "2015-11-01 04:00:00 2015-11-01 04:00:00         1         9        0.026490"
      ]
     },
     "execution_count": 70,
     "metadata": {},
     "output_type": "execute_result"
    }
   ],
   "source": [
    "# Preprocess the data\n",
    "scaler = MinMaxScaler()\n",
    "junc1['scaled_traffic'] = scaler.fit_transform(junc1['Vehicles'].values.reshape(-1, 1))\n",
    "\n",
    "junc1.head()"
   ]
  },
  {
   "cell_type": "code",
   "execution_count": 75,
   "id": "631a50d1",
   "metadata": {},
   "outputs": [
    {
     "data": {
      "text/html": [
       "<div>\n",
       "<style scoped>\n",
       "    .dataframe tbody tr th:only-of-type {\n",
       "        vertical-align: middle;\n",
       "    }\n",
       "\n",
       "    .dataframe tbody tr th {\n",
       "        vertical-align: top;\n",
       "    }\n",
       "\n",
       "    .dataframe thead th {\n",
       "        text-align: right;\n",
       "    }\n",
       "</style>\n",
       "<table border=\"1\" class=\"dataframe\">\n",
       "  <thead>\n",
       "    <tr style=\"text-align: right;\">\n",
       "      <th></th>\n",
       "      <th>DateTime</th>\n",
       "      <th>Junction</th>\n",
       "      <th>Vehicles</th>\n",
       "      <th>scaled_traffic</th>\n",
       "    </tr>\n",
       "    <tr>\n",
       "      <th>DateTime</th>\n",
       "      <th></th>\n",
       "      <th></th>\n",
       "      <th></th>\n",
       "      <th></th>\n",
       "    </tr>\n",
       "  </thead>\n",
       "  <tbody>\n",
       "    <tr>\n",
       "      <th>2015-11-01 00:00:00</th>\n",
       "      <td>2015-11-01 00:00:00</td>\n",
       "      <td>1</td>\n",
       "      <td>15</td>\n",
       "      <td>0.066225</td>\n",
       "    </tr>\n",
       "    <tr>\n",
       "      <th>2015-11-01 01:00:00</th>\n",
       "      <td>2015-11-01 01:00:00</td>\n",
       "      <td>1</td>\n",
       "      <td>13</td>\n",
       "      <td>0.052980</td>\n",
       "    </tr>\n",
       "    <tr>\n",
       "      <th>2015-11-01 02:00:00</th>\n",
       "      <td>2015-11-01 02:00:00</td>\n",
       "      <td>1</td>\n",
       "      <td>10</td>\n",
       "      <td>0.033113</td>\n",
       "    </tr>\n",
       "    <tr>\n",
       "      <th>2015-11-01 03:00:00</th>\n",
       "      <td>2015-11-01 03:00:00</td>\n",
       "      <td>1</td>\n",
       "      <td>7</td>\n",
       "      <td>0.013245</td>\n",
       "    </tr>\n",
       "    <tr>\n",
       "      <th>2015-11-01 04:00:00</th>\n",
       "      <td>2015-11-01 04:00:00</td>\n",
       "      <td>1</td>\n",
       "      <td>9</td>\n",
       "      <td>0.026490</td>\n",
       "    </tr>\n",
       "    <tr>\n",
       "      <th>...</th>\n",
       "      <td>...</td>\n",
       "      <td>...</td>\n",
       "      <td>...</td>\n",
       "      <td>...</td>\n",
       "    </tr>\n",
       "    <tr>\n",
       "      <th>2017-03-01 04:00:00</th>\n",
       "      <td>2017-03-01 04:00:00</td>\n",
       "      <td>1</td>\n",
       "      <td>42</td>\n",
       "      <td>0.245033</td>\n",
       "    </tr>\n",
       "    <tr>\n",
       "      <th>2017-03-01 05:00:00</th>\n",
       "      <td>2017-03-01 05:00:00</td>\n",
       "      <td>1</td>\n",
       "      <td>39</td>\n",
       "      <td>0.225166</td>\n",
       "    </tr>\n",
       "    <tr>\n",
       "      <th>2017-03-01 06:00:00</th>\n",
       "      <td>2017-03-01 06:00:00</td>\n",
       "      <td>1</td>\n",
       "      <td>43</td>\n",
       "      <td>0.251656</td>\n",
       "    </tr>\n",
       "    <tr>\n",
       "      <th>2017-03-01 07:00:00</th>\n",
       "      <td>2017-03-01 07:00:00</td>\n",
       "      <td>1</td>\n",
       "      <td>43</td>\n",
       "      <td>0.251656</td>\n",
       "    </tr>\n",
       "    <tr>\n",
       "      <th>2017-03-01 08:00:00</th>\n",
       "      <td>2017-03-01 08:00:00</td>\n",
       "      <td>1</td>\n",
       "      <td>50</td>\n",
       "      <td>0.298013</td>\n",
       "    </tr>\n",
       "  </tbody>\n",
       "</table>\n",
       "<p>11673 rows × 4 columns</p>\n",
       "</div>"
      ],
      "text/plain": [
       "                               DateTime  Junction  Vehicles  scaled_traffic\n",
       "DateTime                                                                   \n",
       "2015-11-01 00:00:00 2015-11-01 00:00:00         1        15        0.066225\n",
       "2015-11-01 01:00:00 2015-11-01 01:00:00         1        13        0.052980\n",
       "2015-11-01 02:00:00 2015-11-01 02:00:00         1        10        0.033113\n",
       "2015-11-01 03:00:00 2015-11-01 03:00:00         1         7        0.013245\n",
       "2015-11-01 04:00:00 2015-11-01 04:00:00         1         9        0.026490\n",
       "...                                 ...       ...       ...             ...\n",
       "2017-03-01 04:00:00 2017-03-01 04:00:00         1        42        0.245033\n",
       "2017-03-01 05:00:00 2017-03-01 05:00:00         1        39        0.225166\n",
       "2017-03-01 06:00:00 2017-03-01 06:00:00         1        43        0.251656\n",
       "2017-03-01 07:00:00 2017-03-01 07:00:00         1        43        0.251656\n",
       "2017-03-01 08:00:00 2017-03-01 08:00:00         1        50        0.298013\n",
       "\n",
       "[11673 rows x 4 columns]"
      ]
     },
     "execution_count": 75,
     "metadata": {},
     "output_type": "execute_result"
    }
   ],
   "source": [
    "# Split the data into training and testing sets\n",
    "train_size = int(len(data) * 0.8)\n",
    "train_data = junc1.iloc[:train_size]\n",
    "test_data = junc1.iloc[train_size:]\n",
    "\n",
    "train_data"
   ]
  },
  {
   "cell_type": "code",
   "execution_count": 76,
   "id": "47b6b6f3",
   "metadata": {},
   "outputs": [],
   "source": [
    "# Create input sequences and target values\n",
    "sequence_length = 10\n",
    "\n",
    "def create_sequences(data, sequence_length):\n",
    "    x = []\n",
    "    y = []\n",
    "    for i in range(len(data) - sequence_length):\n",
    "        x.append(data[i:i+sequence_length])\n",
    "        y.append(data[i+sequence_length])\n",
    "    return np.array(x), np.array(y)"
   ]
  },
  {
   "cell_type": "code",
   "execution_count": 77,
   "id": "b93fa7f3",
   "metadata": {},
   "outputs": [],
   "source": [
    "train_x, train_y = create_sequences(train_data['scaled_traffic'].values, sequence_length)\n",
    "test_x, test_y = create_sequences(test_data['scaled_traffic'].values, sequence_length)"
   ]
  },
  {
   "cell_type": "code",
   "execution_count": 78,
   "id": "4ed62983",
   "metadata": {},
   "outputs": [],
   "source": [
    "# Flatten the input sequences\n",
    "train_x = train_x.reshape(train_x.shape[0], -1)\n",
    "test_x = test_x.reshape(test_x.shape[0], -1)\n"
   ]
  },
  {
   "cell_type": "code",
   "execution_count": 79,
   "id": "5da83975",
   "metadata": {},
   "outputs": [
    {
     "data": {
      "text/plain": [
       "LinearRegression()"
      ]
     },
     "execution_count": 79,
     "metadata": {},
     "output_type": "execute_result"
    }
   ],
   "source": [
    "# Build the linear regression model\n",
    "model = LinearRegression()\n",
    "\n",
    "# Train the model\n",
    "model.fit(train_x, train_y)"
   ]
  },
  {
   "cell_type": "code",
   "execution_count": 80,
   "id": "e417c621",
   "metadata": {},
   "outputs": [
    {
     "name": "stdout",
     "output_type": "stream",
     "text": [
      "Train RMSE: 0.0351082728594234\n",
      "Test RMSE: 0.04779015272503905\n"
     ]
    }
   ],
   "source": [
    "# Evaluate the model\n",
    "train_predictions = model.predict(train_x)\n",
    "train_rmse = np.sqrt(mean_squared_error(train_y, train_predictions))\n",
    "print('Train RMSE:', train_rmse)\n",
    "\n",
    "test_predictions = model.predict(test_x)\n",
    "test_rmse = np.sqrt(mean_squared_error(test_y, test_predictions))\n",
    "print('Test RMSE:', test_rmse)"
   ]
  },
  {
   "cell_type": "code",
   "execution_count": 82,
   "id": "c6f94ed5",
   "metadata": {},
   "outputs": [
    {
     "name": "stdout",
     "output_type": "stream",
     "text": [
      "Current Time: 2023-07-04 16:00:28.793935\n",
      "Future Time: 2023-07-04 17:00:28\n",
      "Predicted Traffic at Future Time: 81.00458447195213\n"
     ]
    }
   ],
   "source": [
    "# Predict traffic for a future time\n",
    "current_time = datetime.now()\n",
    "future_time = current_time + timedelta(hours=1)\n",
    "future_time_str = future_time.strftime('%Y-%m-%d %H:%M:%S')\n",
    "\n",
    "predicted_traffic = model.predict(test_x[-1].reshape(1, -1))\n",
    "predicted_traffic = scaler.inverse_transform(predicted_traffic.reshape(1, -1))\n",
    "\n",
    "print('Current Time:', current_time)\n",
    "print('Future Time:', future_time_str)\n",
    "print('Predicted Traffic at Future Time:', predicted_traffic[0][0])\n"
   ]
  },
  {
   "cell_type": "code",
   "execution_count": null,
   "id": "584a29fb",
   "metadata": {},
   "outputs": [],
   "source": []
  }
 ],
 "metadata": {
  "kernelspec": {
   "display_name": "Python 3 (ipykernel)",
   "language": "python",
   "name": "python3"
  },
  "language_info": {
   "codemirror_mode": {
    "name": "ipython",
    "version": 3
   },
   "file_extension": ".py",
   "mimetype": "text/x-python",
   "name": "python",
   "nbconvert_exporter": "python",
   "pygments_lexer": "ipython3",
   "version": "3.9.13"
  }
 },
 "nbformat": 4,
 "nbformat_minor": 5
}
