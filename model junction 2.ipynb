{
 "cells": [
  {
   "cell_type": "code",
   "execution_count": 2,
   "metadata": {},
   "outputs": [],
   "source": [
    "# %pip install prophet"
   ]
  },
  {
   "cell_type": "code",
   "execution_count": 3,
   "metadata": {},
   "outputs": [],
   "source": [
    "# %pip install pystan"
   ]
  },
  {
   "cell_type": "code",
   "execution_count": 4,
   "metadata": {},
   "outputs": [
    {
     "name": "stdout",
     "output_type": "stream",
     "text": [
      "Requirement already satisfied: plotly in /home/gitonga/anaconda3/lib/python3.10/site-packages (5.9.0)\n",
      "Requirement already satisfied: tenacity>=6.2.0 in /home/gitonga/anaconda3/lib/python3.10/site-packages (from plotly) (8.0.1)\n",
      "\u001b[33mWARNING: There was an error checking the latest version of pip.\u001b[0m\u001b[33m\n",
      "\u001b[0mNote: you may need to restart the kernel to use updated packages.\n"
     ]
    }
   ],
   "source": [
    "%pip install plotly"
   ]
  },
  {
   "cell_type": "code",
   "execution_count": 5,
   "metadata": {},
   "outputs": [],
   "source": [
    "import pandas as pd\n",
    "from prophet import Prophet"
   ]
  },
  {
   "cell_type": "code",
   "execution_count": 6,
   "metadata": {},
   "outputs": [
    {
     "data": {
      "text/html": [
       "<div>\n",
       "<style scoped>\n",
       "    .dataframe tbody tr th:only-of-type {\n",
       "        vertical-align: middle;\n",
       "    }\n",
       "\n",
       "    .dataframe tbody tr th {\n",
       "        vertical-align: top;\n",
       "    }\n",
       "\n",
       "    .dataframe thead th {\n",
       "        text-align: right;\n",
       "    }\n",
       "</style>\n",
       "<table border=\"1\" class=\"dataframe\">\n",
       "  <thead>\n",
       "    <tr style=\"text-align: right;\">\n",
       "      <th></th>\n",
       "      <th>DateTime</th>\n",
       "      <th>Junction</th>\n",
       "      <th>Vehicles</th>\n",
       "      <th>year</th>\n",
       "    </tr>\n",
       "  </thead>\n",
       "  <tbody>\n",
       "    <tr>\n",
       "      <th>0</th>\n",
       "      <td>2015-11-01 00:00:00</td>\n",
       "      <td>2</td>\n",
       "      <td>6</td>\n",
       "      <td>2015</td>\n",
       "    </tr>\n",
       "    <tr>\n",
       "      <th>1</th>\n",
       "      <td>2015-11-01 01:00:00</td>\n",
       "      <td>2</td>\n",
       "      <td>6</td>\n",
       "      <td>2015</td>\n",
       "    </tr>\n",
       "    <tr>\n",
       "      <th>2</th>\n",
       "      <td>2015-11-01 02:00:00</td>\n",
       "      <td>2</td>\n",
       "      <td>5</td>\n",
       "      <td>2015</td>\n",
       "    </tr>\n",
       "    <tr>\n",
       "      <th>3</th>\n",
       "      <td>2015-11-01 03:00:00</td>\n",
       "      <td>2</td>\n",
       "      <td>6</td>\n",
       "      <td>2015</td>\n",
       "    </tr>\n",
       "    <tr>\n",
       "      <th>4</th>\n",
       "      <td>2015-11-01 04:00:00</td>\n",
       "      <td>2</td>\n",
       "      <td>7</td>\n",
       "      <td>2015</td>\n",
       "    </tr>\n",
       "    <tr>\n",
       "      <th>5</th>\n",
       "      <td>2015-11-01 05:00:00</td>\n",
       "      <td>2</td>\n",
       "      <td>2</td>\n",
       "      <td>2015</td>\n",
       "    </tr>\n",
       "    <tr>\n",
       "      <th>6</th>\n",
       "      <td>2015-11-01 06:00:00</td>\n",
       "      <td>2</td>\n",
       "      <td>4</td>\n",
       "      <td>2015</td>\n",
       "    </tr>\n",
       "    <tr>\n",
       "      <th>7</th>\n",
       "      <td>2015-11-01 07:00:00</td>\n",
       "      <td>2</td>\n",
       "      <td>4</td>\n",
       "      <td>2015</td>\n",
       "    </tr>\n",
       "    <tr>\n",
       "      <th>8</th>\n",
       "      <td>2015-11-01 08:00:00</td>\n",
       "      <td>2</td>\n",
       "      <td>3</td>\n",
       "      <td>2015</td>\n",
       "    </tr>\n",
       "    <tr>\n",
       "      <th>9</th>\n",
       "      <td>2015-11-01 09:00:00</td>\n",
       "      <td>2</td>\n",
       "      <td>3</td>\n",
       "      <td>2015</td>\n",
       "    </tr>\n",
       "    <tr>\n",
       "      <th>10</th>\n",
       "      <td>2015-11-01 10:00:00</td>\n",
       "      <td>2</td>\n",
       "      <td>8</td>\n",
       "      <td>2015</td>\n",
       "    </tr>\n",
       "    <tr>\n",
       "      <th>11</th>\n",
       "      <td>2015-11-01 11:00:00</td>\n",
       "      <td>2</td>\n",
       "      <td>5</td>\n",
       "      <td>2015</td>\n",
       "    </tr>\n",
       "    <tr>\n",
       "      <th>12</th>\n",
       "      <td>2015-11-01 12:00:00</td>\n",
       "      <td>2</td>\n",
       "      <td>6</td>\n",
       "      <td>2015</td>\n",
       "    </tr>\n",
       "    <tr>\n",
       "      <th>13</th>\n",
       "      <td>2015-11-01 13:00:00</td>\n",
       "      <td>2</td>\n",
       "      <td>6</td>\n",
       "      <td>2015</td>\n",
       "    </tr>\n",
       "    <tr>\n",
       "      <th>14</th>\n",
       "      <td>2015-11-01 14:00:00</td>\n",
       "      <td>2</td>\n",
       "      <td>5</td>\n",
       "      <td>2015</td>\n",
       "    </tr>\n",
       "    <tr>\n",
       "      <th>15</th>\n",
       "      <td>2015-11-01 15:00:00</td>\n",
       "      <td>2</td>\n",
       "      <td>3</td>\n",
       "      <td>2015</td>\n",
       "    </tr>\n",
       "    <tr>\n",
       "      <th>16</th>\n",
       "      <td>2015-11-01 16:00:00</td>\n",
       "      <td>2</td>\n",
       "      <td>8</td>\n",
       "      <td>2015</td>\n",
       "    </tr>\n",
       "    <tr>\n",
       "      <th>17</th>\n",
       "      <td>2015-11-01 17:00:00</td>\n",
       "      <td>2</td>\n",
       "      <td>7</td>\n",
       "      <td>2015</td>\n",
       "    </tr>\n",
       "    <tr>\n",
       "      <th>18</th>\n",
       "      <td>2015-11-01 18:00:00</td>\n",
       "      <td>2</td>\n",
       "      <td>8</td>\n",
       "      <td>2015</td>\n",
       "    </tr>\n",
       "    <tr>\n",
       "      <th>19</th>\n",
       "      <td>2015-11-01 19:00:00</td>\n",
       "      <td>2</td>\n",
       "      <td>7</td>\n",
       "      <td>2015</td>\n",
       "    </tr>\n",
       "  </tbody>\n",
       "</table>\n",
       "</div>"
      ],
      "text/plain": [
       "               DateTime  Junction  Vehicles  year\n",
       "0   2015-11-01 00:00:00         2         6  2015\n",
       "1   2015-11-01 01:00:00         2         6  2015\n",
       "2   2015-11-01 02:00:00         2         5  2015\n",
       "3   2015-11-01 03:00:00         2         6  2015\n",
       "4   2015-11-01 04:00:00         2         7  2015\n",
       "5   2015-11-01 05:00:00         2         2  2015\n",
       "6   2015-11-01 06:00:00         2         4  2015\n",
       "7   2015-11-01 07:00:00         2         4  2015\n",
       "8   2015-11-01 08:00:00         2         3  2015\n",
       "9   2015-11-01 09:00:00         2         3  2015\n",
       "10  2015-11-01 10:00:00         2         8  2015\n",
       "11  2015-11-01 11:00:00         2         5  2015\n",
       "12  2015-11-01 12:00:00         2         6  2015\n",
       "13  2015-11-01 13:00:00         2         6  2015\n",
       "14  2015-11-01 14:00:00         2         5  2015\n",
       "15  2015-11-01 15:00:00         2         3  2015\n",
       "16  2015-11-01 16:00:00         2         8  2015\n",
       "17  2015-11-01 17:00:00         2         7  2015\n",
       "18  2015-11-01 18:00:00         2         8  2015\n",
       "19  2015-11-01 19:00:00         2         7  2015"
      ]
     },
     "execution_count": 6,
     "metadata": {},
     "output_type": "execute_result"
    }
   ],
   "source": [
    "df = pd.read_csv('Traffic_Junc/Junc2.csv')\n",
    "df.head(20)"
   ]
  },
  {
   "cell_type": "code",
   "execution_count": 7,
   "metadata": {},
   "outputs": [
    {
     "data": {
      "text/plain": [
       "DateTime    object\n",
       "Junction     int64\n",
       "Vehicles     int64\n",
       "year         int64\n",
       "dtype: object"
      ]
     },
     "execution_count": 7,
     "metadata": {},
     "output_type": "execute_result"
    }
   ],
   "source": [
    "df.dtypes"
   ]
  },
  {
   "cell_type": "code",
   "execution_count": 8,
   "metadata": {},
   "outputs": [
    {
     "data": {
      "text/plain": [
       "DateTime    datetime64[ns]\n",
       "Junction             int64\n",
       "Vehicles             int64\n",
       "year                 int64\n",
       "dtype: object"
      ]
     },
     "execution_count": 8,
     "metadata": {},
     "output_type": "execute_result"
    }
   ],
   "source": [
    "df['DateTime'] = pd.to_datetime(df['DateTime'])\n",
    "df.dtypes"
   ]
  },
  {
   "cell_type": "code",
   "execution_count": 9,
   "metadata": {},
   "outputs": [],
   "source": [
    "df.drop('year', axis=1, inplace=True)"
   ]
  },
  {
   "cell_type": "code",
   "execution_count": 10,
   "metadata": {},
   "outputs": [],
   "source": [
    "df.drop('Junction', axis=1, inplace=True)"
   ]
  },
  {
   "cell_type": "code",
   "execution_count": 11,
   "metadata": {},
   "outputs": [],
   "source": [
    "df.columns = ['ds', 'y']"
   ]
  },
  {
   "cell_type": "code",
   "execution_count": 12,
   "metadata": {},
   "outputs": [
    {
     "data": {
      "text/html": [
       "<div>\n",
       "<style scoped>\n",
       "    .dataframe tbody tr th:only-of-type {\n",
       "        vertical-align: middle;\n",
       "    }\n",
       "\n",
       "    .dataframe tbody tr th {\n",
       "        vertical-align: top;\n",
       "    }\n",
       "\n",
       "    .dataframe thead th {\n",
       "        text-align: right;\n",
       "    }\n",
       "</style>\n",
       "<table border=\"1\" class=\"dataframe\">\n",
       "  <thead>\n",
       "    <tr style=\"text-align: right;\">\n",
       "      <th></th>\n",
       "      <th>ds</th>\n",
       "      <th>y</th>\n",
       "    </tr>\n",
       "  </thead>\n",
       "  <tbody>\n",
       "    <tr>\n",
       "      <th>0</th>\n",
       "      <td>2015-11-01 00:00:00</td>\n",
       "      <td>6</td>\n",
       "    </tr>\n",
       "    <tr>\n",
       "      <th>1</th>\n",
       "      <td>2015-11-01 01:00:00</td>\n",
       "      <td>6</td>\n",
       "    </tr>\n",
       "    <tr>\n",
       "      <th>2</th>\n",
       "      <td>2015-11-01 02:00:00</td>\n",
       "      <td>5</td>\n",
       "    </tr>\n",
       "    <tr>\n",
       "      <th>3</th>\n",
       "      <td>2015-11-01 03:00:00</td>\n",
       "      <td>6</td>\n",
       "    </tr>\n",
       "    <tr>\n",
       "      <th>4</th>\n",
       "      <td>2015-11-01 04:00:00</td>\n",
       "      <td>7</td>\n",
       "    </tr>\n",
       "    <tr>\n",
       "      <th>...</th>\n",
       "      <td>...</td>\n",
       "      <td>...</td>\n",
       "    </tr>\n",
       "    <tr>\n",
       "      <th>14587</th>\n",
       "      <td>2017-06-30 19:00:00</td>\n",
       "      <td>34</td>\n",
       "    </tr>\n",
       "    <tr>\n",
       "      <th>14588</th>\n",
       "      <td>2017-06-30 20:00:00</td>\n",
       "      <td>35</td>\n",
       "    </tr>\n",
       "    <tr>\n",
       "      <th>14589</th>\n",
       "      <td>2017-06-30 21:00:00</td>\n",
       "      <td>31</td>\n",
       "    </tr>\n",
       "    <tr>\n",
       "      <th>14590</th>\n",
       "      <td>2017-06-30 22:00:00</td>\n",
       "      <td>29</td>\n",
       "    </tr>\n",
       "    <tr>\n",
       "      <th>14591</th>\n",
       "      <td>2017-06-30 23:00:00</td>\n",
       "      <td>27</td>\n",
       "    </tr>\n",
       "  </tbody>\n",
       "</table>\n",
       "<p>14592 rows × 2 columns</p>\n",
       "</div>"
      ],
      "text/plain": [
       "                       ds   y\n",
       "0     2015-11-01 00:00:00   6\n",
       "1     2015-11-01 01:00:00   6\n",
       "2     2015-11-01 02:00:00   5\n",
       "3     2015-11-01 03:00:00   6\n",
       "4     2015-11-01 04:00:00   7\n",
       "...                   ...  ..\n",
       "14587 2017-06-30 19:00:00  34\n",
       "14588 2017-06-30 20:00:00  35\n",
       "14589 2017-06-30 21:00:00  31\n",
       "14590 2017-06-30 22:00:00  29\n",
       "14591 2017-06-30 23:00:00  27\n",
       "\n",
       "[14592 rows x 2 columns]"
      ]
     },
     "execution_count": 12,
     "metadata": {},
     "output_type": "execute_result"
    }
   ],
   "source": [
    "df"
   ]
  },
  {
   "cell_type": "code",
   "execution_count": 13,
   "metadata": {},
   "outputs": [
    {
     "name": "stderr",
     "output_type": "stream",
     "text": [
      "01:16:13 - cmdstanpy - INFO - Chain [1] start processing\n",
      "01:16:35 - cmdstanpy - INFO - Chain [1] done processing\n"
     ]
    }
   ],
   "source": [
    "m = Prophet(interval_width=0.85)\n",
    "trained_model = m.fit(df)"
   ]
  },
  {
   "cell_type": "code",
   "execution_count": 14,
   "metadata": {},
   "outputs": [],
   "source": [
    "future = m.make_future_dataframe(periods=1000)\n",
    "make_predictions = trained_model.predict(future)"
   ]
  },
  {
   "cell_type": "code",
   "execution_count": 15,
   "metadata": {},
   "outputs": [
    {
     "data": {
      "image/png": "[encoded data removed]",
      "text/plain": [
       "<Figure size 1000x600 with 1 Axes>"
      ]
     },
     "metadata": {},
     "output_type": "display_data"
    }
   ],
   "source": [
    "plot1 = m.plot(make_predictions)"
   ]
  },
  {
   "cell_type": "code",
   "execution_count": 16,
   "metadata": {},
   "outputs": [],
   "source": [
    "import pandas as pd\n",
    "import numpy as np"
   ]
  },
  {
   "cell_type": "code",
   "execution_count": 17,
   "metadata": {},
   "outputs": [],
   "source": [
    "from sklearn.preprocessing import MinMaxScaler\n"
   ]
  },
  {
   "cell_type": "code",
   "execution_count": 18,
   "metadata": {},
   "outputs": [],
   "source": [
    "df = pd.read_csv('Traffic_Junc/Junc2.csv')\n"
   ]
  },
  {
   "cell_type": "code",
   "execution_count": 19,
   "metadata": {},
   "outputs": [],
   "source": [
    "df1 = df['Vehicles']"
   ]
  },
  {
   "cell_type": "code",
   "execution_count": 20,
   "metadata": {},
   "outputs": [
    {
     "data": {
      "text/plain": [
       "[<matplotlib.lines.Line2D at 0x7fbd941a9bd0>]"
      ]
     },
     "execution_count": 20,
     "metadata": {},
     "output_type": "execute_result"
    },
    {
     "data": {
      "image/png": "[encoded data removed]",
      "text/plain": [
       "<Figure size 640x480 with 1 Axes>"
      ]
     },
     "metadata": {},
     "output_type": "display_data"
    }
   ],
   "source": [
    "import matplotlib.pyplot as plt \n",
    "\n",
    "plt.plot(df1)"
   ]
  },
  {
   "cell_type": "code",
   "execution_count": 21,
   "metadata": {},
   "outputs": [
    {
     "data": {
      "text/plain": [
       "0         6\n",
       "1         6\n",
       "2         5\n",
       "3         6\n",
       "4         7\n",
       "         ..\n",
       "14587    34\n",
       "14588    35\n",
       "14589    31\n",
       "14590    29\n",
       "14591    27\n",
       "Name: Vehicles, Length: 14592, dtype: int64"
      ]
     },
     "execution_count": 21,
     "metadata": {},
     "output_type": "execute_result"
    }
   ],
   "source": [
    "df1"
   ]
  },
  {
   "cell_type": "code",
   "execution_count": 22,
   "metadata": {},
   "outputs": [],
   "source": [
    "scaler = MinMaxScaler(feature_range=(0,1))\n",
    "\n",
    "df1 = scaler.fit_transform(np.array(df1).reshape(-1,1))"
   ]
  },
  {
   "cell_type": "code",
   "execution_count": 23,
   "metadata": {},
   "outputs": [
    {
     "data": {
      "text/plain": [
       "array([[0.10638298],\n",
       "       [0.10638298],\n",
       "       [0.08510638],\n",
       "       ...,\n",
       "       [0.63829787],\n",
       "       [0.59574468],\n",
       "       [0.55319149]])"
      ]
     },
     "execution_count": 23,
     "metadata": {},
     "output_type": "execute_result"
    }
   ],
   "source": [
    "df1"
   ]
  },
  {
   "cell_type": "code",
   "execution_count": 24,
   "metadata": {},
   "outputs": [],
   "source": [
    "training_size = int(len(df1)*0.65)\n",
    "training_set, test_set = df1[:training_size,:], df1[training_size:len(df1),:1]"
   ]
  },
  {
   "cell_type": "code",
   "execution_count": 25,
   "metadata": {},
   "outputs": [
    {
     "name": "stdout",
     "output_type": "stream",
     "text": [
      "[[0.10638298]\n",
      " [0.10638298]\n",
      " [0.08510638]\n",
      " ...\n",
      " [0.36170213]\n",
      " [0.38297872]\n",
      " [0.36170213]]\n"
     ]
    }
   ],
   "source": [
    "print(training_set)"
   ]
  },
  {
   "cell_type": "code",
   "execution_count": 26,
   "metadata": {},
   "outputs": [],
   "source": [
    "import numpy as np\n",
    "\n",
    "def data_set(data_set, time_step=1):\n",
    "    X, y = [], []\n",
    "\n",
    "    for i in range(len(data_set)-time_step-1):\n",
    "        a = data_set[i:(i+time_step), 0]\n",
    "        X.append(a)\n",
    "        y.append(data_set[i+time_step, 0])\n",
    "\n",
    "    max_len = max(len(x) for x in X)\n",
    "    X = np.array([np.pad(x, (0, max_len - len(x)), mode='constant') for x in X])\n",
    "    y = np.array(y)\n",
    "\n",
    "    return X, y\n"
   ]
  },
  {
   "cell_type": "code",
   "execution_count": 27,
   "metadata": {},
   "outputs": [],
   "source": [
    "time_step = 150\n",
    "X_train, y_train = data_set(training_set, time_step)\n",
    "X_test, y_test = data_set(test_set, time_step)"
   ]
  },
  {
   "cell_type": "code",
   "execution_count": 28,
   "metadata": {},
   "outputs": [
    {
     "name": "stdout",
     "output_type": "stream",
     "text": [
      "(9333, 150)\n"
     ]
    }
   ],
   "source": [
    "print(X_train.shape)"
   ]
  },
  {
   "cell_type": "code",
   "execution_count": 29,
   "metadata": {},
   "outputs": [],
   "source": [
    "X_train = np.reshape(X_train, (X_train.shape[0], time_step, 1))\n",
    "X_test = np.reshape(X_test, (X_test.shape[0], time_step, 1))\n"
   ]
  },
  {
   "cell_type": "code",
   "execution_count": 30,
   "metadata": {},
   "outputs": [
    {
     "data": {
      "text/plain": [
       "((9333, 150, 1), (4957, 150, 1))"
      ]
     },
     "execution_count": 30,
     "metadata": {},
     "output_type": "execute_result"
    }
   ],
   "source": [
    "X_train.shape, X_test.shape"
   ]
  },
  {
   "cell_type": "code",
   "execution_count": 31,
   "metadata": {},
   "outputs": [
    {
     "name": "stderr",
     "output_type": "stream",
     "text": [
      "2023-07-06 01:17:58.785502: I tensorflow/core/platform/cpu_feature_guard.cc:182] This TensorFlow binary is optimized to use available CPU instructions in performance-critical operations.\n",
      "To enable the following instructions: SSE4.1 SSE4.2 AVX AVX2 FMA, in other operations, rebuild TensorFlow with the appropriate compiler flags.\n"
     ]
    }
   ],
   "source": [
    "from keras.models import Sequential\n",
    "from keras.layers import LSTM, Dense"
   ]
  },
  {
   "cell_type": "code",
   "execution_count": 32,
   "metadata": {},
   "outputs": [
    {
     "name": "stderr",
     "output_type": "stream",
     "text": [
      "2023-07-06 01:18:55.047853: I tensorflow/core/common_runtime/process_util.cc:146] Creating new thread pool with default inter op setting: 2. Tune using inter_op_parallelism_threads for best performance.\n",
      "2023-07-06 01:18:57.788084: I tensorflow/core/common_runtime/executor.cc:1197] [/device:CPU:0] (DEBUG INFO) Executor start aborting (this does not indicate an error and you can ignore this message): INVALID_ARGUMENT: You must feed a value for placeholder tensor 'gradients/split_2_grad/concat/split_2/split_dim' with dtype int32\n",
      "\t [[{{node gradients/split_2_grad/concat/split_2/split_dim}}]]\n",
      "2023-07-06 01:18:57.791920: I tensorflow/core/common_runtime/executor.cc:1197] [/device:CPU:0] (DEBUG INFO) Executor start aborting (this does not indicate an error and you can ignore this message): INVALID_ARGUMENT: You must feed a value for placeholder tensor 'gradients/split_grad/concat/split/split_dim' with dtype int32\n",
      "\t [[{{node gradients/split_grad/concat/split/split_dim}}]]\n",
      "2023-07-06 01:18:57.793986: I tensorflow/core/common_runtime/executor.cc:1197] [/device:CPU:0] (DEBUG INFO) Executor start aborting (this does not indicate an error and you can ignore this message): INVALID_ARGUMENT: You must feed a value for placeholder tensor 'gradients/split_1_grad/concat/split_1/split_dim' with dtype int32\n",
      "\t [[{{node gradients/split_1_grad/concat/split_1/split_dim}}]]\n",
      "2023-07-06 01:18:58.213650: I tensorflow/core/common_runtime/executor.cc:1197] [/device:CPU:0] (DEBUG INFO) Executor start aborting (this does not indicate an error and you can ignore this message): INVALID_ARGUMENT: You must feed a value for placeholder tensor 'gradients/split_2_grad/concat/split_2/split_dim' with dtype int32\n",
      "\t [[{{node gradients/split_2_grad/concat/split_2/split_dim}}]]\n",
      "2023-07-06 01:18:58.217532: I tensorflow/core/common_runtime/executor.cc:1197] [/device:CPU:0] (DEBUG INFO) Executor start aborting (this does not indicate an error and you can ignore this message): INVALID_ARGUMENT: You must feed a value for placeholder tensor 'gradients/split_grad/concat/split/split_dim' with dtype int32\n",
      "\t [[{{node gradients/split_grad/concat/split/split_dim}}]]\n",
      "2023-07-06 01:18:58.222581: I tensorflow/core/common_runtime/executor.cc:1197] [/device:CPU:0] (DEBUG INFO) Executor start aborting (this does not indicate an error and you can ignore this message): INVALID_ARGUMENT: You must feed a value for placeholder tensor 'gradients/split_1_grad/concat/split_1/split_dim' with dtype int32\n",
      "\t [[{{node gradients/split_1_grad/concat/split_1/split_dim}}]]\n",
      "2023-07-06 01:18:58.651143: I tensorflow/core/common_runtime/executor.cc:1197] [/device:CPU:0] (DEBUG INFO) Executor start aborting (this does not indicate an error and you can ignore this message): INVALID_ARGUMENT: You must feed a value for placeholder tensor 'gradients/split_2_grad/concat/split_2/split_dim' with dtype int32\n",
      "\t [[{{node gradients/split_2_grad/concat/split_2/split_dim}}]]\n",
      "2023-07-06 01:18:58.655530: I tensorflow/core/common_runtime/executor.cc:1197] [/device:CPU:0] (DEBUG INFO) Executor start aborting (this does not indicate an error and you can ignore this message): INVALID_ARGUMENT: You must feed a value for placeholder tensor 'gradients/split_grad/concat/split/split_dim' with dtype int32\n",
      "\t [[{{node gradients/split_grad/concat/split/split_dim}}]]\n",
      "2023-07-06 01:18:58.657775: I tensorflow/core/common_runtime/executor.cc:1197] [/device:CPU:0] (DEBUG INFO) Executor start aborting (this does not indicate an error and you can ignore this message): INVALID_ARGUMENT: You must feed a value for placeholder tensor 'gradients/split_1_grad/concat/split_1/split_dim' with dtype int32\n",
      "\t [[{{node gradients/split_1_grad/concat/split_1/split_dim}}]]\n"
     ]
    }
   ],
   "source": [
    "model = Sequential()\n",
    "model.add(LSTM(50, return_sequences=True, input_shape=(150,1)))\n",
    "model.add(LSTM(50, return_sequences=True))\n",
    "model.add(LSTM(50))\n",
    "model.add(Dense(1))\n",
    "model.compile(loss='mean_squared_error', optimizer='adam')"
   ]
  },
  {
   "cell_type": "code",
   "execution_count": 33,
   "metadata": {},
   "outputs": [
    {
     "name": "stdout",
     "output_type": "stream",
     "text": [
      "Epoch 1/150\n"
     ]
    },
    {
     "name": "stderr",
     "output_type": "stream",
     "text": [
      "2023-07-06 01:19:00.445606: I tensorflow/core/common_runtime/executor.cc:1197] [/device:CPU:0] (DEBUG INFO) Executor start aborting (this does not indicate an error and you can ignore this message): INVALID_ARGUMENT: You must feed a value for placeholder tensor 'gradients/split_2_grad/concat/split_2/split_dim' with dtype int32\n",
      "\t [[{{node gradients/split_2_grad/concat/split_2/split_dim}}]]\n",
      "2023-07-06 01:19:00.448293: I tensorflow/core/common_runtime/executor.cc:1197] [/device:CPU:0] (DEBUG INFO) Executor start aborting (this does not indicate an error and you can ignore this message): INVALID_ARGUMENT: You must feed a value for placeholder tensor 'gradients/split_grad/concat/split/split_dim' with dtype int32\n",
      "\t [[{{node gradients/split_grad/concat/split/split_dim}}]]\n",
      "2023-07-06 01:19:00.452892: I tensorflow/core/common_runtime/executor.cc:1197] [/device:CPU:0] (DEBUG INFO) Executor start aborting (this does not indicate an error and you can ignore this message): INVALID_ARGUMENT: You must feed a value for placeholder tensor 'gradients/split_1_grad/concat/split_1/split_dim' with dtype int32\n",
      "\t [[{{node gradients/split_1_grad/concat/split_1/split_dim}}]]\n",
      "2023-07-06 01:19:01.084517: I tensorflow/core/common_runtime/executor.cc:1197] [/device:CPU:0] (DEBUG INFO) Executor start aborting (this does not indicate an error and you can ignore this message): INVALID_ARGUMENT: You must feed a value for placeholder tensor 'gradients/split_2_grad/concat/split_2/split_dim' with dtype int32\n",
      "\t [[{{node gradients/split_2_grad/concat/split_2/split_dim}}]]\n",
      "2023-07-06 01:19:01.089076: I tensorflow/core/common_runtime/executor.cc:1197] [/device:CPU:0] (DEBUG INFO) Executor start aborting (this does not indicate an error and you can ignore this message): INVALID_ARGUMENT: You must feed a value for placeholder tensor 'gradients/split_grad/concat/split/split_dim' with dtype int32\n",
      "\t [[{{node gradients/split_grad/concat/split/split_dim}}]]\n",
      "2023-07-06 01:19:01.091591: I tensorflow/core/common_runtime/executor.cc:1197] [/device:CPU:0] (DEBUG INFO) Executor start aborting (this does not indicate an error and you can ignore this message): INVALID_ARGUMENT: You must feed a value for placeholder tensor 'gradients/split_1_grad/concat/split_1/split_dim' with dtype int32\n",
      "\t [[{{node gradients/split_1_grad/concat/split_1/split_dim}}]]\n",
      "2023-07-06 01:19:01.487401: I tensorflow/core/common_runtime/executor.cc:1197] [/device:CPU:0] (DEBUG INFO) Executor start aborting (this does not indicate an error and you can ignore this message): INVALID_ARGUMENT: You must feed a value for placeholder tensor 'gradients/split_2_grad/concat/split_2/split_dim' with dtype int32\n",
      "\t [[{{node gradients/split_2_grad/concat/split_2/split_dim}}]]\n",
      "2023-07-06 01:19:01.490462: I tensorflow/core/common_runtime/executor.cc:1197] [/device:CPU:0] (DEBUG INFO) Executor start aborting (this does not indicate an error and you can ignore this message): INVALID_ARGUMENT: You must feed a value for placeholder tensor 'gradients/split_grad/concat/split/split_dim' with dtype int32\n",
      "\t [[{{node gradients/split_grad/concat/split/split_dim}}]]\n",
      "2023-07-06 01:19:01.493112: I tensorflow/core/common_runtime/executor.cc:1197] [/device:CPU:0] (DEBUG INFO) Executor start aborting (this does not indicate an error and you can ignore this message): INVALID_ARGUMENT: You must feed a value for placeholder tensor 'gradients/split_1_grad/concat/split_1/split_dim' with dtype int32\n",
      "\t [[{{node gradients/split_1_grad/concat/split_1/split_dim}}]]\n",
      "2023-07-06 01:19:04.691036: I tensorflow/core/common_runtime/executor.cc:1197] [/device:CPU:0] (DEBUG INFO) Executor start aborting (this does not indicate an error and you can ignore this message): INVALID_ARGUMENT: You must feed a value for placeholder tensor 'gradients/split_2_grad/concat/split_2/split_dim' with dtype int32\n",
      "\t [[{{node gradients/split_2_grad/concat/split_2/split_dim}}]]\n",
      "2023-07-06 01:19:04.694503: I tensorflow/core/common_runtime/executor.cc:1197] [/device:CPU:0] (DEBUG INFO) Executor start aborting (this does not indicate an error and you can ignore this message): INVALID_ARGUMENT: You must feed a value for placeholder tensor 'gradients/split_grad/concat/split/split_dim' with dtype int32\n",
      "\t [[{{node gradients/split_grad/concat/split/split_dim}}]]\n",
      "2023-07-06 01:19:04.696904: I tensorflow/core/common_runtime/executor.cc:1197] [/device:CPU:0] (DEBUG INFO) Executor start aborting (this does not indicate an error and you can ignore this message): INVALID_ARGUMENT: You must feed a value for placeholder tensor 'gradients/split_1_grad/concat/split_1/split_dim' with dtype int32\n",
      "\t [[{{node gradients/split_1_grad/concat/split_1/split_dim}}]]\n",
      "2023-07-06 01:19:05.209243: I tensorflow/core/common_runtime/executor.cc:1197] [/device:CPU:0] (DEBUG INFO) Executor start aborting (this does not indicate an error and you can ignore this message): INVALID_ARGUMENT: You must feed a value for placeholder tensor 'gradients/split_2_grad/concat/split_2/split_dim' with dtype int32\n",
      "\t [[{{node gradients/split_2_grad/concat/split_2/split_dim}}]]\n",
      "2023-07-06 01:19:05.214014: I tensorflow/core/common_runtime/executor.cc:1197] [/device:CPU:0] (DEBUG INFO) Executor start aborting (this does not indicate an error and you can ignore this message): INVALID_ARGUMENT: You must feed a value for placeholder tensor 'gradients/split_grad/concat/split/split_dim' with dtype int32\n",
      "\t [[{{node gradients/split_grad/concat/split/split_dim}}]]\n",
      "2023-07-06 01:19:05.220832: I tensorflow/core/common_runtime/executor.cc:1197] [/device:CPU:0] (DEBUG INFO) Executor start aborting (this does not indicate an error and you can ignore this message): INVALID_ARGUMENT: You must feed a value for placeholder tensor 'gradients/split_1_grad/concat/split_1/split_dim' with dtype int32\n",
      "\t [[{{node gradients/split_1_grad/concat/split_1/split_dim}}]]\n",
      "2023-07-06 01:19:05.775855: I tensorflow/core/common_runtime/executor.cc:1197] [/device:CPU:0] (DEBUG INFO) Executor start aborting (this does not indicate an error and you can ignore this message): INVALID_ARGUMENT: You must feed a value for placeholder tensor 'gradients/split_2_grad/concat/split_2/split_dim' with dtype int32\n",
      "\t [[{{node gradients/split_2_grad/concat/split_2/split_dim}}]]\n",
      "2023-07-06 01:19:05.779043: I tensorflow/core/common_runtime/executor.cc:1197] [/device:CPU:0] (DEBUG INFO) Executor start aborting (this does not indicate an error and you can ignore this message): INVALID_ARGUMENT: You must feed a value for placeholder tensor 'gradients/split_grad/concat/split/split_dim' with dtype int32\n",
      "\t [[{{node gradients/split_grad/concat/split/split_dim}}]]\n",
      "2023-07-06 01:19:05.781191: I tensorflow/core/common_runtime/executor.cc:1197] [/device:CPU:0] (DEBUG INFO) Executor start aborting (this does not indicate an error and you can ignore this message): INVALID_ARGUMENT: You must feed a value for placeholder tensor 'gradients/split_1_grad/concat/split_1/split_dim' with dtype int32\n",
      "\t [[{{node gradients/split_1_grad/concat/split_1/split_dim}}]]\n"
     ]
    },
    {
     "name": "stdout",
     "output_type": "stream",
     "text": [
      "146/146 [==============================] - ETA: 0s - loss: 0.0070"
     ]
    },
    {
     "name": "stderr",
     "output_type": "stream",
     "text": [
      "2023-07-06 01:21:41.093105: I tensorflow/core/common_runtime/executor.cc:1197] [/device:CPU:0] (DEBUG INFO) Executor start aborting (this does not indicate an error and you can ignore this message): INVALID_ARGUMENT: You must feed a value for placeholder tensor 'gradients/split_2_grad/concat/split_2/split_dim' with dtype int32\n",
      "\t [[{{node gradients/split_2_grad/concat/split_2/split_dim}}]]\n",
      "2023-07-06 01:21:41.096268: I tensorflow/core/common_runtime/executor.cc:1197] [/device:CPU:0] (DEBUG INFO) Executor start aborting (this does not indicate an error and you can ignore this message): INVALID_ARGUMENT: You must feed a value for placeholder tensor 'gradients/split_grad/concat/split/split_dim' with dtype int32\n",
      "\t [[{{node gradients/split_grad/concat/split/split_dim}}]]\n",
      "2023-07-06 01:21:41.098456: I tensorflow/core/common_runtime/executor.cc:1197] [/device:CPU:0] (DEBUG INFO) Executor start aborting (this does not indicate an error and you can ignore this message): INVALID_ARGUMENT: You must feed a value for placeholder tensor 'gradients/split_1_grad/concat/split_1/split_dim' with dtype int32\n",
      "\t [[{{node gradients/split_1_grad/concat/split_1/split_dim}}]]\n",
      "2023-07-06 01:21:41.378921: I tensorflow/core/common_runtime/executor.cc:1197] [/device:CPU:0] (DEBUG INFO) Executor start aborting (this does not indicate an error and you can ignore this message): INVALID_ARGUMENT: You must feed a value for placeholder tensor 'gradients/split_2_grad/concat/split_2/split_dim' with dtype int32\n",
      "\t [[{{node gradients/split_2_grad/concat/split_2/split_dim}}]]\n",
      "2023-07-06 01:21:41.381279: I tensorflow/core/common_runtime/executor.cc:1197] [/device:CPU:0] (DEBUG INFO) Executor start aborting (this does not indicate an error and you can ignore this message): INVALID_ARGUMENT: You must feed a value for placeholder tensor 'gradients/split_grad/concat/split/split_dim' with dtype int32\n",
      "\t [[{{node gradients/split_grad/concat/split/split_dim}}]]\n",
      "2023-07-06 01:21:41.383179: I tensorflow/core/common_runtime/executor.cc:1197] [/device:CPU:0] (DEBUG INFO) Executor start aborting (this does not indicate an error and you can ignore this message): INVALID_ARGUMENT: You must feed a value for placeholder tensor 'gradients/split_1_grad/concat/split_1/split_dim' with dtype int32\n",
      "\t [[{{node gradients/split_1_grad/concat/split_1/split_dim}}]]\n",
      "2023-07-06 01:21:41.627463: I tensorflow/core/common_runtime/executor.cc:1197] [/device:CPU:0] (DEBUG INFO) Executor start aborting (this does not indicate an error and you can ignore this message): INVALID_ARGUMENT: You must feed a value for placeholder tensor 'gradients/split_2_grad/concat/split_2/split_dim' with dtype int32\n",
      "\t [[{{node gradients/split_2_grad/concat/split_2/split_dim}}]]\n",
      "2023-07-06 01:21:41.629825: I tensorflow/core/common_runtime/executor.cc:1197] [/device:CPU:0] (DEBUG INFO) Executor start aborting (this does not indicate an error and you can ignore this message): INVALID_ARGUMENT: You must feed a value for placeholder tensor 'gradients/split_grad/concat/split/split_dim' with dtype int32\n",
      "\t [[{{node gradients/split_grad/concat/split/split_dim}}]]\n",
      "2023-07-06 01:21:41.631589: I tensorflow/core/common_runtime/executor.cc:1197] [/device:CPU:0] (DEBUG INFO) Executor start aborting (this does not indicate an error and you can ignore this message): INVALID_ARGUMENT: You must feed a value for placeholder tensor 'gradients/split_1_grad/concat/split_1/split_dim' with dtype int32\n",
      "\t [[{{node gradients/split_1_grad/concat/split_1/split_dim}}]]\n"
     ]
    },
    {
     "name": "stdout",
     "output_type": "stream",
     "text": [
      "146/146 [==============================] - 193s 1s/step - loss: 0.0070 - val_loss: 0.0203\n",
      "Epoch 2/150\n",
      "146/146 [==============================] - 189s 1s/step - loss: 0.0033 - val_loss: 0.0078\n",
      "Epoch 3/150\n",
      "146/146 [==============================] - 181s 1s/step - loss: 0.0028 - val_loss: 0.0060\n",
      "Epoch 4/150\n",
      "146/146 [==============================] - 183s 1s/step - loss: 0.0026 - val_loss: 0.0064\n",
      "Epoch 5/150\n",
      "146/146 [==============================] - 182s 1s/step - loss: 0.0025 - val_loss: 0.0060\n",
      "Epoch 6/150\n",
      "146/146 [==============================] - 159s 1s/step - loss: 0.0024 - val_loss: 0.0062\n",
      "Epoch 7/150\n",
      "146/146 [==============================] - 99s 680ms/step - loss: 0.0023 - val_loss: 0.0057\n",
      "Epoch 8/150\n",
      "146/146 [==============================] - 103s 704ms/step - loss: 0.0024 - val_loss: 0.0070\n",
      "Epoch 9/150\n",
      "146/146 [==============================] - 99s 676ms/step - loss: 0.0023 - val_loss: 0.0064\n",
      "Epoch 10/150\n",
      "146/146 [==============================] - 99s 681ms/step - loss: 0.0023 - val_loss: 0.0049\n",
      "Epoch 11/150\n",
      "146/146 [==============================] - 100s 686ms/step - loss: 0.0023 - val_loss: 0.0063\n",
      "Epoch 12/150\n",
      "146/146 [==============================] - 100s 687ms/step - loss: 0.0023 - val_loss: 0.0101\n",
      "Epoch 13/150\n",
      "146/146 [==============================] - 99s 680ms/step - loss: 0.0022 - val_loss: 0.0056\n",
      "Epoch 14/150\n",
      "146/146 [==============================] - 99s 682ms/step - loss: 0.0022 - val_loss: 0.0046\n",
      "Epoch 15/150\n",
      "146/146 [==============================] - 98s 674ms/step - loss: 0.0023 - val_loss: 0.0075\n",
      "Epoch 16/150\n",
      "146/146 [==============================] - 103s 703ms/step - loss: 0.0022 - val_loss: 0.0053\n",
      "Epoch 17/150\n",
      "146/146 [==============================] - 100s 686ms/step - loss: 0.0021 - val_loss: 0.0053\n",
      "Epoch 18/150\n",
      "146/146 [==============================] - 100s 688ms/step - loss: 0.0022 - val_loss: 0.0063\n",
      "Epoch 19/150\n",
      "146/146 [==============================] - 100s 686ms/step - loss: 0.0021 - val_loss: 0.0084\n",
      "Epoch 20/150\n",
      "146/146 [==============================] - 103s 709ms/step - loss: 0.0022 - val_loss: 0.0060\n",
      "Epoch 21/150\n",
      "146/146 [==============================] - 101s 693ms/step - loss: 0.0021 - val_loss: 0.0059\n",
      "Epoch 22/150\n",
      "146/146 [==============================] - 100s 686ms/step - loss: 0.0021 - val_loss: 0.0070\n",
      "Epoch 23/150\n",
      "146/146 [==============================] - 101s 691ms/step - loss: 0.0022 - val_loss: 0.0054\n",
      "Epoch 24/150\n",
      "146/146 [==============================] - 102s 701ms/step - loss: 0.0021 - val_loss: 0.0058\n",
      "Epoch 25/150\n",
      "146/146 [==============================] - 148s 1s/step - loss: 0.0021 - val_loss: 0.0064\n",
      "Epoch 26/150\n",
      "146/146 [==============================] - 189s 1s/step - loss: 0.0021 - val_loss: 0.0050\n",
      "Epoch 27/150\n",
      "146/146 [==============================] - 185s 1s/step - loss: 0.0021 - val_loss: 0.0076\n",
      "Epoch 28/150\n",
      "146/146 [==============================] - 161s 1s/step - loss: 0.0021 - val_loss: 0.0054\n",
      "Epoch 29/150\n",
      "146/146 [==============================] - 102s 696ms/step - loss: 0.0021 - val_loss: 0.0058\n",
      "Epoch 30/150\n",
      "146/146 [==============================] - 104s 715ms/step - loss: 0.0021 - val_loss: 0.0086\n",
      "Epoch 31/150\n",
      "146/146 [==============================] - 102s 699ms/step - loss: 0.0021 - val_loss: 0.0059\n",
      "Epoch 32/150\n",
      "146/146 [==============================] - 101s 693ms/step - loss: 0.0021 - val_loss: 0.0062\n",
      "Epoch 33/150\n",
      "146/146 [==============================] - 101s 692ms/step - loss: 0.0021 - val_loss: 0.0065\n",
      "Epoch 34/150\n",
      "146/146 [==============================] - 103s 708ms/step - loss: 0.0021 - val_loss: 0.0072\n",
      "Epoch 35/150\n",
      "146/146 [==============================] - 101s 693ms/step - loss: 0.0021 - val_loss: 0.0071\n",
      "Epoch 36/150\n",
      "146/146 [==============================] - 100s 683ms/step - loss: 0.0021 - val_loss: 0.0085\n",
      "Epoch 37/150\n",
      "146/146 [==============================] - 101s 690ms/step - loss: 0.0021 - val_loss: 0.0083\n",
      "Epoch 38/150\n",
      "146/146 [==============================] - 104s 711ms/step - loss: 0.0021 - val_loss: 0.0092\n",
      "Epoch 39/150\n",
      "146/146 [==============================] - 101s 694ms/step - loss: 0.0021 - val_loss: 0.0094\n",
      "Epoch 40/150\n",
      "146/146 [==============================] - 100s 683ms/step - loss: 0.0021 - val_loss: 0.0107\n",
      "Epoch 41/150\n",
      "146/146 [==============================] - 103s 704ms/step - loss: 0.0021 - val_loss: 0.0104\n",
      "Epoch 42/150\n",
      "146/146 [==============================] - 102s 697ms/step - loss: 0.0021 - val_loss: 0.0114\n",
      "Epoch 43/150\n",
      "146/146 [==============================] - 101s 690ms/step - loss: 0.0021 - val_loss: 0.0082\n",
      "Epoch 44/150\n",
      "146/146 [==============================] - 103s 703ms/step - loss: 0.0020 - val_loss: 0.0101\n",
      "Epoch 45/150\n",
      "146/146 [==============================] - 101s 691ms/step - loss: 0.0021 - val_loss: 0.0089\n",
      "Epoch 46/150\n",
      "146/146 [==============================] - 101s 691ms/step - loss: 0.0021 - val_loss: 0.0110\n",
      "Epoch 47/150\n",
      "146/146 [==============================] - 102s 698ms/step - loss: 0.0020 - val_loss: 0.0106\n",
      "Epoch 48/150\n",
      "146/146 [==============================] - 100s 687ms/step - loss: 0.0020 - val_loss: 0.0094\n",
      "Epoch 49/150\n",
      "146/146 [==============================] - 100s 689ms/step - loss: 0.0020 - val_loss: 0.0107\n",
      "Epoch 50/150\n",
      "146/146 [==============================] - 104s 713ms/step - loss: 0.0020 - val_loss: 0.0106\n",
      "Epoch 51/150\n",
      "146/146 [==============================] - 100s 686ms/step - loss: 0.0020 - val_loss: 0.0115\n",
      "Epoch 52/150\n",
      "146/146 [==============================] - 101s 689ms/step - loss: 0.0020 - val_loss: 0.0097\n",
      "Epoch 53/150\n",
      "146/146 [==============================] - 100s 684ms/step - loss: 0.0020 - val_loss: 0.0136\n",
      "Epoch 54/150\n",
      "146/146 [==============================] - 101s 690ms/step - loss: 0.0020 - val_loss: 0.0106\n",
      "Epoch 55/150\n",
      "146/146 [==============================] - 101s 690ms/step - loss: 0.0020 - val_loss: 0.0143\n",
      "Epoch 56/150\n",
      "146/146 [==============================] - 100s 684ms/step - loss: 0.0020 - val_loss: 0.0122\n",
      "Epoch 57/150\n",
      "146/146 [==============================] - 100s 685ms/step - loss: 0.0020 - val_loss: 0.0124\n",
      "Epoch 58/150\n",
      "146/146 [==============================] - 100s 685ms/step - loss: 0.0020 - val_loss: 0.0111\n",
      "Epoch 59/150\n",
      "146/146 [==============================] - 101s 695ms/step - loss: 0.0020 - val_loss: 0.0101\n",
      "Epoch 60/150\n",
      "146/146 [==============================] - 101s 692ms/step - loss: 0.0020 - val_loss: 0.0134\n",
      "Epoch 61/150\n",
      "146/146 [==============================] - 100s 684ms/step - loss: 0.0020 - val_loss: 0.0147\n",
      "Epoch 62/150\n",
      "146/146 [==============================] - 100s 685ms/step - loss: 0.0020 - val_loss: 0.0127\n",
      "Epoch 63/150\n",
      "146/146 [==============================] - 104s 713ms/step - loss: 0.0020 - val_loss: 0.0164\n",
      "Epoch 64/150\n",
      "146/146 [==============================] - 99s 681ms/step - loss: 0.0020 - val_loss: 0.0113\n",
      "Epoch 65/150\n",
      "146/146 [==============================] - 101s 694ms/step - loss: 0.0020 - val_loss: 0.0170\n",
      "Epoch 66/150\n",
      "146/146 [==============================] - 99s 682ms/step - loss: 0.0020 - val_loss: 0.0125\n",
      "Epoch 67/150\n",
      "146/146 [==============================] - 102s 701ms/step - loss: 0.0020 - val_loss: 0.0124\n",
      "Epoch 68/150\n",
      "146/146 [==============================] - 100s 688ms/step - loss: 0.0020 - val_loss: 0.0136\n",
      "Epoch 69/150\n",
      "146/146 [==============================] - 101s 695ms/step - loss: 0.0020 - val_loss: 0.0149\n",
      "Epoch 70/150\n",
      "146/146 [==============================] - 99s 682ms/step - loss: 0.0020 - val_loss: 0.0155\n",
      "Epoch 71/150\n",
      "146/146 [==============================] - 103s 707ms/step - loss: 0.0020 - val_loss: 0.0146\n",
      "Epoch 72/150\n",
      "146/146 [==============================] - 100s 687ms/step - loss: 0.0020 - val_loss: 0.0120\n",
      "Epoch 73/150\n",
      "146/146 [==============================] - 99s 681ms/step - loss: 0.0020 - val_loss: 0.0128\n",
      "Epoch 74/150\n",
      "146/146 [==============================] - 102s 700ms/step - loss: 0.0020 - val_loss: 0.0147\n",
      "Epoch 75/150\n",
      "146/146 [==============================] - 104s 710ms/step - loss: 0.0020 - val_loss: 0.0140\n",
      "Epoch 76/150\n",
      "146/146 [==============================] - 102s 699ms/step - loss: 0.0020 - val_loss: 0.0125\n",
      "Epoch 77/150\n",
      "146/146 [==============================] - 101s 694ms/step - loss: 0.0019 - val_loss: 0.0115\n",
      "Epoch 78/150\n",
      "146/146 [==============================] - 100s 686ms/step - loss: 0.0019 - val_loss: 0.0142\n",
      "Epoch 79/150\n",
      "146/146 [==============================] - 101s 695ms/step - loss: 0.0019 - val_loss: 0.0138\n",
      "Epoch 80/150\n",
      "146/146 [==============================] - 103s 704ms/step - loss: 0.0020 - val_loss: 0.0124\n",
      "Epoch 81/150\n",
      "146/146 [==============================] - 99s 679ms/step - loss: 0.0019 - val_loss: 0.0155\n",
      "Epoch 82/150\n",
      "146/146 [==============================] - 100s 683ms/step - loss: 0.0019 - val_loss: 0.0141\n",
      "Epoch 83/150\n",
      "146/146 [==============================] - 104s 712ms/step - loss: 0.0019 - val_loss: 0.0146\n",
      "Epoch 84/150\n",
      "146/146 [==============================] - 100s 689ms/step - loss: 0.0019 - val_loss: 0.0136\n",
      "Epoch 85/150\n",
      "146/146 [==============================] - 102s 699ms/step - loss: 0.0019 - val_loss: 0.0128\n",
      "Epoch 86/150\n",
      "146/146 [==============================] - 102s 700ms/step - loss: 0.0019 - val_loss: 0.0132\n",
      "Epoch 87/150\n",
      "146/146 [==============================] - 100s 687ms/step - loss: 0.0019 - val_loss: 0.0145\n",
      "Epoch 88/150\n",
      "146/146 [==============================] - 102s 698ms/step - loss: 0.0019 - val_loss: 0.0162\n",
      "Epoch 89/150\n",
      "146/146 [==============================] - 101s 693ms/step - loss: 0.0019 - val_loss: 0.0135\n",
      "Epoch 90/150\n",
      "146/146 [==============================] - 101s 692ms/step - loss: 0.0019 - val_loss: 0.0130\n",
      "Epoch 91/150\n",
      "146/146 [==============================] - 104s 714ms/step - loss: 0.0019 - val_loss: 0.0134\n",
      "Epoch 92/150\n",
      "146/146 [==============================] - 102s 699ms/step - loss: 0.0019 - val_loss: 0.0133\n",
      "Epoch 93/150\n",
      "146/146 [==============================] - 99s 681ms/step - loss: 0.0019 - val_loss: 0.0141\n",
      "Epoch 94/150\n",
      "146/146 [==============================] - 100s 688ms/step - loss: 0.0019 - val_loss: 0.0154\n",
      "Epoch 95/150\n",
      "146/146 [==============================] - 102s 697ms/step - loss: 0.0019 - val_loss: 0.0179\n",
      "Epoch 96/150\n",
      "146/146 [==============================] - 102s 698ms/step - loss: 0.0019 - val_loss: 0.0164\n",
      "Epoch 97/150\n",
      "146/146 [==============================] - 101s 690ms/step - loss: 0.0019 - val_loss: 0.0149\n",
      "Epoch 98/150\n",
      "146/146 [==============================] - 100s 687ms/step - loss: 0.0019 - val_loss: 0.0143\n",
      "Epoch 99/150\n",
      "146/146 [==============================] - 102s 697ms/step - loss: 0.0019 - val_loss: 0.0151\n",
      "Epoch 100/150\n",
      "146/146 [==============================] - 103s 703ms/step - loss: 0.0019 - val_loss: 0.0168\n",
      "Epoch 101/150\n",
      "146/146 [==============================] - 102s 698ms/step - loss: 0.0019 - val_loss: 0.0167\n",
      "Epoch 102/150\n",
      "146/146 [==============================] - 100s 684ms/step - loss: 0.0019 - val_loss: 0.0161\n",
      "Epoch 103/150\n",
      "146/146 [==============================] - 101s 694ms/step - loss: 0.0019 - val_loss: 0.0153\n",
      "Epoch 104/150\n",
      "146/146 [==============================] - 102s 696ms/step - loss: 0.0019 - val_loss: 0.0143\n",
      "Epoch 105/150\n",
      "146/146 [==============================] - 102s 701ms/step - loss: 0.0019 - val_loss: 0.0159\n",
      "Epoch 106/150\n",
      "146/146 [==============================] - 101s 692ms/step - loss: 0.0019 - val_loss: 0.0156\n",
      "Epoch 107/150\n",
      "146/146 [==============================] - 99s 677ms/step - loss: 0.0019 - val_loss: 0.0179\n",
      "Epoch 108/150\n",
      "146/146 [==============================] - 103s 704ms/step - loss: 0.0019 - val_loss: 0.0132\n",
      "Epoch 109/150\n",
      "146/146 [==============================] - 101s 694ms/step - loss: 0.0019 - val_loss: 0.0186\n",
      "Epoch 110/150\n",
      "146/146 [==============================] - 100s 686ms/step - loss: 0.0019 - val_loss: 0.0174\n",
      "Epoch 111/150\n",
      "146/146 [==============================] - 100s 687ms/step - loss: 0.0019 - val_loss: 0.0139\n",
      "Epoch 112/150\n",
      "146/146 [==============================] - 103s 704ms/step - loss: 0.0019 - val_loss: 0.0161\n",
      "Epoch 113/150\n",
      "146/146 [==============================] - 100s 687ms/step - loss: 0.0019 - val_loss: 0.0153\n",
      "Epoch 114/150\n",
      "146/146 [==============================] - 101s 694ms/step - loss: 0.0019 - val_loss: 0.0171\n",
      "Epoch 115/150\n",
      "146/146 [==============================] - 102s 698ms/step - loss: 0.0019 - val_loss: 0.0154\n",
      "Epoch 116/150\n",
      "146/146 [==============================] - 103s 706ms/step - loss: 0.0019 - val_loss: 0.0165\n",
      "Epoch 117/150\n",
      "146/146 [==============================] - 101s 695ms/step - loss: 0.0019 - val_loss: 0.0182\n",
      "Epoch 118/150\n",
      "146/146 [==============================] - 101s 691ms/step - loss: 0.0019 - val_loss: 0.0154\n",
      "Epoch 119/150\n",
      "146/146 [==============================] - 100s 686ms/step - loss: 0.0019 - val_loss: 0.0199\n",
      "Epoch 120/150\n",
      "146/146 [==============================] - 102s 702ms/step - loss: 0.0019 - val_loss: 0.0166\n",
      "Epoch 121/150\n",
      "146/146 [==============================] - 101s 693ms/step - loss: 0.0019 - val_loss: 0.0178\n",
      "Epoch 122/150\n",
      "146/146 [==============================] - 100s 687ms/step - loss: 0.0019 - val_loss: 0.0165\n",
      "Epoch 123/150\n",
      "146/146 [==============================] - 100s 688ms/step - loss: 0.0019 - val_loss: 0.0176\n",
      "Epoch 124/150\n",
      "146/146 [==============================] - 101s 694ms/step - loss: 0.0019 - val_loss: 0.0193\n",
      "Epoch 125/150\n",
      "146/146 [==============================] - 102s 699ms/step - loss: 0.0019 - val_loss: 0.0177\n",
      "Epoch 126/150\n",
      "146/146 [==============================] - 99s 676ms/step - loss: 0.0019 - val_loss: 0.0173\n",
      "Epoch 127/150\n",
      "146/146 [==============================] - 103s 704ms/step - loss: 0.0018 - val_loss: 0.0188\n",
      "Epoch 128/150\n",
      "146/146 [==============================] - 103s 707ms/step - loss: 0.0019 - val_loss: 0.0141\n",
      "Epoch 129/150\n",
      "146/146 [==============================] - 100s 686ms/step - loss: 0.0019 - val_loss: 0.0149\n",
      "Epoch 130/150\n",
      "146/146 [==============================] - 102s 701ms/step - loss: 0.0018 - val_loss: 0.0179\n",
      "Epoch 131/150\n",
      "146/146 [==============================] - 100s 687ms/step - loss: 0.0018 - val_loss: 0.0203\n",
      "Epoch 132/150\n",
      "146/146 [==============================] - 103s 703ms/step - loss: 0.0018 - val_loss: 0.0196\n",
      "Epoch 133/150\n",
      "146/146 [==============================] - 102s 702ms/step - loss: 0.0019 - val_loss: 0.0180\n",
      "Epoch 134/150\n",
      "146/146 [==============================] - 100s 683ms/step - loss: 0.0018 - val_loss: 0.0173\n",
      "Epoch 135/150\n",
      "146/146 [==============================] - 100s 684ms/step - loss: 0.0019 - val_loss: 0.0193\n",
      "Epoch 136/150\n",
      "146/146 [==============================] - 102s 701ms/step - loss: 0.0019 - val_loss: 0.0181\n",
      "Epoch 137/150\n",
      "146/146 [==============================] - 102s 699ms/step - loss: 0.0019 - val_loss: 0.0189\n",
      "Epoch 138/150\n",
      "146/146 [==============================] - 99s 682ms/step - loss: 0.0018 - val_loss: 0.0180\n",
      "Epoch 139/150\n",
      "146/146 [==============================] - 100s 686ms/step - loss: 0.0018 - val_loss: 0.0182\n",
      "Epoch 140/150\n",
      "146/146 [==============================] - 100s 689ms/step - loss: 0.0019 - val_loss: 0.0164\n",
      "Epoch 141/150\n",
      "146/146 [==============================] - 100s 687ms/step - loss: 0.0018 - val_loss: 0.0175\n",
      "Epoch 142/150\n",
      "146/146 [==============================] - 100s 688ms/step - loss: 0.0019 - val_loss: 0.0207\n",
      "Epoch 143/150\n",
      "146/146 [==============================] - 101s 693ms/step - loss: 0.0018 - val_loss: 0.0196\n",
      "Epoch 144/150\n",
      "146/146 [==============================] - 103s 708ms/step - loss: 0.0018 - val_loss: 0.0197\n",
      "Epoch 145/150\n",
      "146/146 [==============================] - 103s 706ms/step - loss: 0.0018 - val_loss: 0.0193\n",
      "Epoch 146/150\n",
      "146/146 [==============================] - 101s 693ms/step - loss: 0.0018 - val_loss: 0.0184\n",
      "Epoch 147/150\n",
      "146/146 [==============================] - 101s 690ms/step - loss: 0.0018 - val_loss: 0.0205\n",
      "Epoch 148/150\n",
      "146/146 [==============================] - 101s 693ms/step - loss: 0.0018 - val_loss: 0.0173\n",
      "Epoch 149/150\n",
      "146/146 [==============================] - 102s 702ms/step - loss: 0.0018 - val_loss: 0.0185\n",
      "Epoch 150/150\n",
      "146/146 [==============================] - 101s 695ms/step - loss: 0.0018 - val_loss: 0.0198\n"
     ]
    },
    {
     "data": {
      "text/plain": [
       "<keras.callbacks.History at 0x7fbd704138b0>"
      ]
     },
     "execution_count": 33,
     "metadata": {},
     "output_type": "execute_result"
    }
   ],
   "source": [
    "model.fit(X_train, y_train, batch_size=64, epochs=150, verbose=1, validation_data=(X_test, y_test))"
   ]
  },
  {
   "cell_type": "code",
   "execution_count": 34,
   "metadata": {},
   "outputs": [
    {
     "name": "stdout",
     "output_type": "stream",
     "text": [
      "155/155 [==============================] - 50s 322ms/step - loss: 0.0198\n"
     ]
    },
    {
     "data": {
      "text/plain": [
       "0.019818808883428574"
      ]
     },
     "execution_count": 34,
     "metadata": {},
     "output_type": "execute_result"
    }
   ],
   "source": [
    "model.evaluate(X_test, y_test)"
   ]
  },
  {
   "cell_type": "code",
   "execution_count": 35,
   "metadata": {},
   "outputs": [
    {
     "name": "stderr",
     "output_type": "stream",
     "text": [
      "2023-07-06 10:03:12.658635: I tensorflow/core/common_runtime/executor.cc:1197] [/device:CPU:0] (DEBUG INFO) Executor start aborting (this does not indicate an error and you can ignore this message): INVALID_ARGUMENT: You must feed a value for placeholder tensor 'gradients/split_2_grad/concat/split_2/split_dim' with dtype int32\n",
      "\t [[{{node gradients/split_2_grad/concat/split_2/split_dim}}]]\n",
      "2023-07-06 10:03:12.687728: I tensorflow/core/common_runtime/executor.cc:1197] [/device:CPU:0] (DEBUG INFO) Executor start aborting (this does not indicate an error and you can ignore this message): INVALID_ARGUMENT: You must feed a value for placeholder tensor 'gradients/split_grad/concat/split/split_dim' with dtype int32\n",
      "\t [[{{node gradients/split_grad/concat/split/split_dim}}]]\n",
      "2023-07-06 10:03:12.691156: I tensorflow/core/common_runtime/executor.cc:1197] [/device:CPU:0] (DEBUG INFO) Executor start aborting (this does not indicate an error and you can ignore this message): INVALID_ARGUMENT: You must feed a value for placeholder tensor 'gradients/split_1_grad/concat/split_1/split_dim' with dtype int32\n",
      "\t [[{{node gradients/split_1_grad/concat/split_1/split_dim}}]]\n",
      "2023-07-06 10:03:13.347838: I tensorflow/core/common_runtime/executor.cc:1197] [/device:CPU:0] (DEBUG INFO) Executor start aborting (this does not indicate an error and you can ignore this message): INVALID_ARGUMENT: You must feed a value for placeholder tensor 'gradients/split_2_grad/concat/split_2/split_dim' with dtype int32\n",
      "\t [[{{node gradients/split_2_grad/concat/split_2/split_dim}}]]\n",
      "2023-07-06 10:03:13.355058: I tensorflow/core/common_runtime/executor.cc:1197] [/device:CPU:0] (DEBUG INFO) Executor start aborting (this does not indicate an error and you can ignore this message): INVALID_ARGUMENT: You must feed a value for placeholder tensor 'gradients/split_grad/concat/split/split_dim' with dtype int32\n",
      "\t [[{{node gradients/split_grad/concat/split/split_dim}}]]\n",
      "2023-07-06 10:03:13.358831: I tensorflow/core/common_runtime/executor.cc:1197] [/device:CPU:0] (DEBUG INFO) Executor start aborting (this does not indicate an error and you can ignore this message): INVALID_ARGUMENT: You must feed a value for placeholder tensor 'gradients/split_1_grad/concat/split_1/split_dim' with dtype int32\n",
      "\t [[{{node gradients/split_1_grad/concat/split_1/split_dim}}]]\n",
      "2023-07-06 10:03:13.988330: I tensorflow/core/common_runtime/executor.cc:1197] [/device:CPU:0] (DEBUG INFO) Executor start aborting (this does not indicate an error and you can ignore this message): INVALID_ARGUMENT: You must feed a value for placeholder tensor 'gradients/split_2_grad/concat/split_2/split_dim' with dtype int32\n",
      "\t [[{{node gradients/split_2_grad/concat/split_2/split_dim}}]]\n",
      "2023-07-06 10:03:13.992563: I tensorflow/core/common_runtime/executor.cc:1197] [/device:CPU:0] (DEBUG INFO) Executor start aborting (this does not indicate an error and you can ignore this message): INVALID_ARGUMENT: You must feed a value for placeholder tensor 'gradients/split_grad/concat/split/split_dim' with dtype int32\n",
      "\t [[{{node gradients/split_grad/concat/split/split_dim}}]]\n",
      "2023-07-06 10:03:13.996018: I tensorflow/core/common_runtime/executor.cc:1197] [/device:CPU:0] (DEBUG INFO) Executor start aborting (this does not indicate an error and you can ignore this message): INVALID_ARGUMENT: You must feed a value for placeholder tensor 'gradients/split_1_grad/concat/split_1/split_dim' with dtype int32\n",
      "\t [[{{node gradients/split_1_grad/concat/split_1/split_dim}}]]\n"
     ]
    },
    {
     "name": "stdout",
     "output_type": "stream",
     "text": [
      "292/292 [==============================] - 135s 440ms/step\n",
      "155/155 [==============================] - 71s 456ms/step\n"
     ]
    }
   ],
   "source": [
    "trained_predict = model.predict(X_train)\n",
    "test_predict = model.predict(X_test)"
   ]
  },
  {
   "cell_type": "code",
   "execution_count": 36,
   "metadata": {},
   "outputs": [],
   "source": [
    "trained_predict = scaler.inverse_transform(trained_predict)\n",
    "test_predict = scaler.inverse_transform(test_predict)\n"
   ]
  }
 ],
 "metadata": {
  "kernelspec": {
   "display_name": "base",
   "language": "python",
   "name": "python3"
  },
  "language_info": {
   "codemirror_mode": {
    "name": "ipython",
    "version": 3
   },
   "file_extension": ".py",
   "mimetype": "text/x-python",
   "name": "python",
   "nbconvert_exporter": "python",
   "pygments_lexer": "ipython3",
   "version": "3.10.9"
  },
  "orig_nbformat": 4
 },
 "nbformat": 4,
 "nbformat_minor": 2
}
